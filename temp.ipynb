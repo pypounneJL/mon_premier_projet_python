{
 "cells": [
  {
   "cell_type": "code",
   "execution_count": null,
   "id": "c6effffc",
   "metadata": {},
   "outputs": [],
   "source": [
    "from datetime import datetime\n",
    "import pandas as pd \n",
    "import json \n",
    "import time \n",
    "from at_ter import at_bis, terme, cc, fractionnement\n",
    "with open ('param.json','r') as file:\n",
    "    data=json.load(file)\n",
    "table_morta= pd.read_csv(\"Table unisexe.csv\",sep= ';',index_col=0)\n",
    "\n",
    "a=time.time()\n",
    "if terme==\"echu\" :\n",
    "    somme = sum(at_bis[1:402])\n",
    "else : \n",
    "    somme = sum(at_bis[0:402])\n",
    "ax= somme/fractionnement\n",
    "rente_brut = cc/ax \n",
    "print(ax, rente_brut)\n",
    "\n",
    "print(time.time()-a)\n",
    "\n",
    "#print( end_time-start_time)\n",
    "\n"
   ]
  }
 ],
 "metadata": {
  "kernelspec": {
   "display_name": ".venv",
   "language": "python",
   "name": "python3"
  },
  "language_info": {
   "name": "python",
   "version": "3.13.1"
  }
 },
 "nbformat": 4,
 "nbformat_minor": 5
}
